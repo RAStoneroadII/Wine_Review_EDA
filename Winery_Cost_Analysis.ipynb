{
 "cells": [
  {
   "cell_type": "markdown",
   "id": "91b38d7b",
   "metadata": {},
   "source": [
    "# Overhead and Initial Cost Analysis\n",
    "For the top ten wine producing regions, overhead and initial costs will be outlined. I may try to visualize this \n",
    "as some kind of report or chart, whatever is easier. One of the limitations of this analysis is that it may not be as easy to find information on provinces outside of the United States. \n",
    "## Outlining Initial Costs\n",
    "1. The price of land per acre \n",
    "2. Grape seedlings or transplants used to grow the first crops\n",
    "3. Facilities needed for manufacture of wine\n",
    "4. Licenses, fees, etc. to have a winery\n",
    "5. Farm equipment\n",
    "\n",
    "## Outlining Overhead Costs\n",
    "1. Labor\n",
    "2. Packaging Materials\n",
    "3. Logistics\n",
    "\n",
    "## Constraints\n",
    "1. Wine types - Pinot Noir, Chardonnay, Red Blend, Bordeaux-style Red Blend, Cabernet Sauvignon\n",
    "2. Pricing - 15, 18, 20, 25, 30 USD per bottle of wine\n",
    "3. Provinces - California, Washington, Bordeaux, Tuscany, Oregon, Burgundy, Northern Spain, Piedmont, Mendoza Province, Veneto"
   ]
  },
  {
   "cell_type": "markdown",
   "id": "ea8135c7",
   "metadata": {},
   "source": [
    "# Sources\n",
    "## Defining Costs of a Winery\n",
    "https://www.mossadams.com/articles/2020/10/accounting-for-the-cost-of-making-wine\n",
    "## American Land Costs\n",
    "land0821.pdf -> find out how to link this file directly"
   ]
  },
  {
   "cell_type": "code",
   "execution_count": 1,
   "id": "71e54318",
   "metadata": {},
   "outputs": [],
   "source": [
    "import matplotlib.pyplot as plt"
   ]
  },
  {
   "cell_type": "markdown",
   "id": "9841f375",
   "metadata": {},
   "source": [
    "### Average vineyard size\n",
    "The size seems to be rather consistent in Europe, but that is not the case in the US. \n",
    "Vineyards are around 83 acres, but can be close to 140 acres.\n",
    "https://www.evineyardapp.com/blog/2020/09/18/tips-for-small-family-owned-vineyard-farms-to-improve-business/\n",
    "### Average Vineyard Labor Cost\n",
    "https://www.goodfruit.com/the-cost-of-vineyard-labor/"
   ]
  },
  {
   "cell_type": "code",
   "execution_count": 2,
   "id": "aefa981c",
   "metadata": {},
   "outputs": [],
   "source": [
    "land_year = [2017,2018,2019,2020,2021]\n",
    "# California Land Cost\n",
    "cali_land_cost = [8970, 9350, 10000, 10000, 10900]\n",
    "# Washington Land Cost\n",
    "wash_land_cost = [2760, 2840, 2820, 2760, 2900]\n",
    "# Oregon Land Cost\n",
    "oregon_land_cost = [2360, 2430, 2500, 2530, 2790]\n",
    "\n",
    "# Line graph to show the growth in land cost\n",
    "plt.title(\"Year vs Acre/dollar\")\n",
    "plt.plot(land_year, cali_land_cost)\n",
    "plt.plot(land_year, wash_land_cost)\n",
    "plt.plot(land_year, oregon_land_cost)"
   ]
  }
 ],
 "metadata": {
  "kernelspec": {
   "display_name": "Python 3 (ipykernel)",
   "language": "python",
   "name": "python3"
  },
  "language_info": {
   "codemirror_mode": {
    "name": "ipython",
    "version": 3
   },
   "file_extension": ".py",
   "mimetype": "text/x-python",
   "name": "python",
   "nbconvert_exporter": "python",
   "pygments_lexer": "ipython3",
   "version": "3.9.7"
  }
 },
 "nbformat": 4,
 "nbformat_minor": 5
}
