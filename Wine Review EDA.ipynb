{
 "cells": [
  {
   "cell_type": "code",
   "execution_count": 3,
   "id": "01c5ecf7",
   "metadata": {
    "collapsed": true
   },
   "outputs": [
    {
     "name": "stdout",
     "output_type": "stream",
     "text": [
      "<class 'pandas.core.frame.DataFrame'>\n",
      "Int64Index: 54170 entries, 3 to 129970\n",
      "Data columns (total 10 columns):\n",
      " #   Column       Non-Null Count  Dtype  \n",
      "---  ------       --------------  -----  \n",
      " 0   country      54170 non-null  object \n",
      " 1   designation  54170 non-null  object \n",
      " 2   points       54170 non-null  int64  \n",
      " 3   price        54170 non-null  float64\n",
      " 4   province     54170 non-null  object \n",
      " 5   region_1     54170 non-null  object \n",
      " 6   taster_name  54170 non-null  object \n",
      " 7   title        54170 non-null  object \n",
      " 8   variety      54170 non-null  object \n",
      " 9   winery       54170 non-null  object \n",
      "dtypes: float64(1), int64(1), object(8)\n",
      "memory usage: 4.5+ MB\n",
      "(None, (54170, 10),   country                         designation  points  price  \\\n",
      "3      US                Reserve Late Harvest      87   13.0   \n",
      "4      US  Vintner's Reserve Wild Child Block      87   65.0   \n",
      "5   Spain                        Ars In Vitro      87   15.0   \n",
      "6   Italy                             Belsito      87   16.0   \n",
      "9  France                         Les Natures      87   27.0   \n",
      "\n",
      "            province             region_1         taster_name  \\\n",
      "3           Michigan  Lake Michigan Shore  Alexander Peartree   \n",
      "4             Oregon    Willamette Valley        Paul Gregutt   \n",
      "5     Northern Spain              Navarra   Michael Schachner   \n",
      "6  Sicily & Sardinia             Vittoria       Kerin O’Keefe   \n",
      "9             Alsace               Alsace          Roger Voss   \n",
      "\n",
      "                                               title             variety  \\\n",
      "3  St. Julian 2013 Reserve Late Harvest Riesling ...            Riesling   \n",
      "4  Sweet Cheeks 2012 Vintner's Reserve Wild Child...          Pinot Noir   \n",
      "5  Tandem 2011 Ars In Vitro Tempranillo-Merlot (N...  Tempranillo-Merlot   \n",
      "6   Terre di Giurfo 2013 Belsito Frappato (Vittoria)            Frappato   \n",
      "9  Jean-Baptiste Adam 2012 Les Natures Pinot Gris...          Pinot Gris   \n",
      "\n",
      "               winery  \n",
      "3          St. Julian  \n",
      "4        Sweet Cheeks  \n",
      "5              Tandem  \n",
      "6     Terre di Giurfo  \n",
      "9  Jean-Baptiste Adam  )\n"
     ]
    }
   ],
   "source": [
    "import numpy as np\n",
    "import matplotlib.pyplot as plt\n",
    "import pandas as pd\n",
    "import warnings #This is so we can see all cols of a dataset in a terminal\n",
    "warnings.filterwarnings('ignore')\n",
    "pd.set_option(\"display.max_columns\", None) #From this point on, all cols will be visible in the terminal\n",
    "wine_dataset = pd.read_csv(\"Wine Review Data Reformatted.csv\")\n",
    "#This function looks at some general characteristics of the data as well as the first five rows of data\n",
    "def data_peek_fn(wine_dataset):\n",
    "    return wine_dataset.info(),wine_dataset.shape,wine_dataset.head()\n",
    "\n",
    "#After the first look at the data, I want to see how many blanks there are within my data\n",
    "#This function enumerates nulls and counts them\n",
    "def null_checker_fn(wine_dataset):\n",
    "    return wine_dataset.isna().any(), wine_dataset.isna().sum()\n",
    "\n",
    "#That is a lot of nulls in my dataset. Let's clean that up with the next function and look at the data again\n",
    "def basic_data_clean_fn(wine_dataset):\n",
    "    reshaped_wine_dataset = wine_dataset.dropna()\n",
    "    return reshaped_wine_dataset.info(), reshaped_wine_dataset.shape, reshaped_wine_dataset.head()\n",
    "print(basic_data_clean_fn(wine_dataset))\n",
    "#Let's look at some summary stats for points and price\n",
    "#Remember if your col names are upper or lowercase (wine data cols are lowercase)\n",
    "def summary_stats(wine_dataset):\n",
    "    reshaped_wine_dataset = wine_dataset.dropna()\n",
    "    wine_points = wine_dataset['points']\n",
    "    wine_price = wine_dataset['price']\n",
    "    print(\"Summary stats of the wine points:\", wine_points.describe())\n",
    "    print(\"Summary stats of the wine prices:\", wine_price.describe())\n",
    "#print(summary_stats(wine_dataset))"
   ]
  },
  {
   "cell_type": "code",
   "execution_count": 27,
   "id": "dfb87ff8",
   "metadata": {},
   "outputs": [
    {
     "name": "stdout",
     "output_type": "stream",
     "text": [
      "                            taster_name\n",
      "variety                                \n",
      "Pinot Noir                        10319\n",
      "Chardonnay                         8943\n",
      "Red Blend                          7109\n",
      "Bordeaux-style Red Blend           6390\n",
      "Cabernet Sauvignon                 6271\n",
      "Riesling                           4935\n",
      "Sauvignon Blanc                    4020\n",
      "Rosé                               3315\n",
      "Syrah                              3140\n",
      "Malbec                             2583\n",
      "Portuguese Red                     2466\n",
      "Merlot                             2099\n",
      "Sangiovese                         1997\n",
      "Nebbiolo                           1981\n",
      "White Blend                        1778\n",
      "Tempranillo                        1755\n",
      "Sparkling Blend                    1730\n",
      "Zinfandel                          1580\n",
      "Pinot Gris                         1338\n",
      "Grüner Veltliner                   1336\n",
      "Rhône-style Red Blend              1302\n",
      "Champagne Blend                    1272\n",
      "Portuguese White                   1159\n",
      "Cabernet Franc                     1127\n",
      "Bordeaux-style White Blend         1048\n",
      "Gamay                              1024\n"
     ]
    }
   ],
   "source": [
    "# The code below shows the most frequently reviewed wine variety\n",
    "import numpy as np\n",
    "import matplotlib.pyplot as plt\n",
    "import pandas as pd\n",
    "import warnings \n",
    "warnings.filterwarnings('ignore')\n",
    "pd.set_option(\"display.max_columns\", None)  # Remember to import all of this for new cells\n",
    "\n",
    "wine_dataset = pd.read_csv(\"Wine Review Data Reformatted.csv\")\n",
    "wineCritFreq = wine_dataset[[\"taster_name\",\"variety\"]]\n",
    "wineVarietyCount = wineCritFreq.groupby(\"variety\").count()\n",
    "wineVarietyCountSorted = wineVarietyCount.sort_values(\"taster_name\",ascending = False)\n",
    "wineVariety1000 = wineVarietyCountSorted[wineVarietyCountSorted[\"taster_name\"] > 1000]\n",
    "print(wineVariety1000)\n",
    "# Worry about plotting later, for now just find the important information\n"
   ]
  },
  {
   "cell_type": "code",
   "execution_count": null,
   "id": "f7757c40",
   "metadata": {},
   "outputs": [],
   "source": []
  }
 ],
 "metadata": {
  "kernelspec": {
   "display_name": "Python 3 (ipykernel)",
   "language": "python",
   "name": "python3"
  },
  "language_info": {
   "codemirror_mode": {
    "name": "ipython",
    "version": 3
   },
   "file_extension": ".py",
   "mimetype": "text/x-python",
   "name": "python",
   "nbconvert_exporter": "python",
   "pygments_lexer": "ipython3",
   "version": "3.9.7"
  }
 },
 "nbformat": 4,
 "nbformat_minor": 5
}
